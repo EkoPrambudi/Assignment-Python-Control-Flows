{
 "cells": [
  {
   "cell_type": "code",
   "execution_count": 3,
   "id": "bf8b1576",
   "metadata": {},
   "outputs": [
    {
     "name": "stdout",
     "output_type": "stream",
     "text": [
      "Input integer number = 5\n",
      "The number is positive.\n",
      "The sum of integers from 1 to 0 is: 15Odd numbers from 1 to 15 are: 1\n",
      "Odd numbers from 1 to 15 are: 3\n",
      "Odd numbers from 1 to 15 are: 5\n",
      "Odd numbers from 1 to 15 are: 7\n",
      "Odd numbers from 1 to 15 are: 9\n",
      "Odd numbers from 1 to 15 are: 11\n",
      "Odd numbers from 1 to 15 are: 13\n",
      "Odd numbers from 1 to 15 are: 15\n",
      "Pattern 15\n"
     ]
    }
   ],
   "source": [
    "num = 0\n",
    "tot = 0\n",
    "num = int(input('Input integer number = '))\n",
    "\n",
    "if num > 0:\n",
    "    print(\"The number is positive.\")\n",
    "elif num < 0:\n",
    "    print(\"The number is negative.\")\n",
    "else:\n",
    "    print(\"The number is zero.\")\n",
    "    \n",
    "while num > 0:\n",
    "    tot += num\n",
    "    num -= 1\n",
    "print('The sum of integers from 1 to', num,'is:', tot, end='')\n",
    "\n",
    "for i in range(1,tot+1):\n",
    "    if (i % 2 != 0):\n",
    "        print('Odd numbers from 1 to', tot, 'are:',i)\n",
    "        \n",
    "if num >= 1:\n",
    "    for i in range (1, num+1):\n",
    "        factorial=factorial * i\n",
    "    print('Factorial of', num,'is', factorial)\n",
    "\n",
    "for i in range(num):\n",
    "    for j in range(1,i):\n",
    "        print(num, end='')\n",
    "        num = num+1\n",
    "print('Pattern',i) \n",
    "\n"
   ]
  },
  {
   "cell_type": "code",
   "execution_count": 128,
   "id": "3e9a2898",
   "metadata": {},
   "outputs": [
    {
     "name": "stdout",
     "output_type": "stream",
     "text": [
      "Input integer number = 5\n",
      "The number is positive.\n"
     ]
    }
   ],
   "source": [
    "num = int(input('Input integer number = '))\n",
    "\n",
    "if num > 0:\n",
    "    print(\"The number is positive.\")\n",
    "elif num < 0:\n",
    "    print(\"The number is negative.\")\n",
    "else:\n",
    "    print(\"The number is zero.\")"
   ]
  },
  {
   "cell_type": "code",
   "execution_count": 34,
   "id": "e1648229",
   "metadata": {},
   "outputs": [
    {
     "name": "stdout",
     "output_type": "stream",
     "text": [
      "Input integer number = 5\n",
      "The sum of integers from 1 to 0 is: 15\n"
     ]
    }
   ],
   "source": [
    "num = 0\n",
    "tot = 0\n",
    "num = int(input('Input integer number = '))\n",
    "while num > 0:\n",
    "    tot += num\n",
    "    num -= 1\n",
    "print('The sum of integers from 1 to', num,'is:', tot)"
   ]
  },
  {
   "cell_type": "code",
   "execution_count": 127,
   "id": "95e60bd4",
   "metadata": {},
   "outputs": [
    {
     "name": "stdout",
     "output_type": "stream",
     "text": [
      "Input integer number = 5\n",
      "Odd numbers from 1 to 5 are: 1\n",
      "Odd numbers from 1 to 5 are: 3\n",
      "Odd numbers from 1 to 5 are: 5\n"
     ]
    }
   ],
   "source": [
    "num = int(input('Input integer number = '))\n",
    "for i in range(0,num+1):\n",
    "    if (i % 2 != 0):\n",
    "        print('Odd numbers from 1 to',num, 'are:', i)"
   ]
  },
  {
   "cell_type": "code",
   "execution_count": 53,
   "id": "da66ebf4",
   "metadata": {},
   "outputs": [
    {
     "name": "stdout",
     "output_type": "stream",
     "text": [
      "Enter a number: 5\n",
      "Factorial of the given number is: 120\n"
     ]
    }
   ],
   "source": [
    "num = int (input (\"Enter a number: \"))\n",
    "factorial = 1\n",
    "if num >= 1:\n",
    "    for i in range (1,num+1):\n",
    "        factorial=factorial *i\n",
    "print(\"Factorial of the given number is:\",factorial)"
   ]
  },
  {
   "cell_type": "code",
   "execution_count": 143,
   "id": "6835bc65",
   "metadata": {},
   "outputs": [
    {
     "name": "stdout",
     "output_type": "stream",
     "text": [
      "Pattern: 3\n",
      "001012\n"
     ]
    }
   ],
   "source": [
    "num = int(input('Pattern: '))\n",
    "for i in range(num):\n",
    "    for j in range(0,i+1):\n",
    "        print(j, end='')\n",
    "print() "
   ]
  },
  {
   "cell_type": "markdown",
   "id": "2ad49864",
   "metadata": {},
   "source": []
  },
  {
   "cell_type": "code",
   "execution_count": 57,
   "id": "1fb28a73",
   "metadata": {},
   "outputs": [
    {
     "name": "stdout",
     "output_type": "stream",
     "text": [
      "Masukkan nilai kebenaran (True/False):false\n",
      "Masukkan nilai kebenaran (True/False):false\n",
      "Hasil AND: False\n",
      "Hasil OR: False\n",
      "Hasil NOT nilai 1: True\n",
      "Hasil NOT nilai 2: True\n"
     ]
    }
   ],
   "source": [
    "x = input('Masukkan nilai kebenaran (True/False):').lower() =='true'\n",
    "y = input('Masukkan nilai kebenaran (True/False):').lower() =='true'\n",
    "en = x and y\n",
    "orr = x or y\n",
    "no1 = not x\n",
    "no2 = not y \n",
    "print('Hasil AND:', en)\n",
    "print('Hasil OR:', orr)\n",
    "print('Hasil NOT nilai 1:', no1)\n",
    "print('Hasil NOT nilai 2:', no2)"
   ]
  },
  {
   "cell_type": "code",
   "execution_count": 50,
   "id": "80248b08",
   "metadata": {},
   "outputs": [
    {
     "name": "stdout",
     "output_type": "stream",
     "text": [
      "14\n"
     ]
    }
   ],
   "source": [
    "z = 7\n",
    "z += z\n",
    "print(z)"
   ]
  },
  {
   "cell_type": "code",
   "execution_count": 36,
   "id": "9bc9e59e",
   "metadata": {},
   "outputs": [
    {
     "name": "stdout",
     "output_type": "stream",
     "text": [
      "0\n"
     ]
    }
   ],
   "source": [
    "a = 8\n",
    "a -= a\n",
    "print(a)"
   ]
  },
  {
   "cell_type": "code",
   "execution_count": 37,
   "id": "028d7205",
   "metadata": {},
   "outputs": [
    {
     "name": "stdout",
     "output_type": "stream",
     "text": [
      "81\n"
     ]
    }
   ],
   "source": [
    "b = 9\n",
    "b *= b\n",
    "print(b)"
   ]
  },
  {
   "cell_type": "code",
   "execution_count": 38,
   "id": "96802eca",
   "metadata": {},
   "outputs": [
    {
     "name": "stdout",
     "output_type": "stream",
     "text": [
      "25\n"
     ]
    }
   ],
   "source": [
    "c = 5\n",
    "c /= c\n",
    "print(c)"
   ]
  },
  {
   "cell_type": "code",
   "execution_count": 5,
   "id": "c3ebbc2e",
   "metadata": {},
   "outputs": [
    {
     "name": "stdout",
     "output_type": "stream",
     "text": [
      "Input integer number = 5\n",
      "Odd numbers from 1 to 5 are 1Odd numbers from 1 to 5 are 3Odd numbers from 1 to 5 are 5"
     ]
    }
   ],
   "source": [
    "num = int(input('Input integer number = '))\n",
    "for i in range(0,num+1):\n",
    "    if (i % 2 != 0):\n",
    "        print('Odd numbers from 1 to',num, 'are', i, end=\"\")"
   ]
  },
  {
   "cell_type": "code",
   "execution_count": 24,
   "id": "ed258dd2",
   "metadata": {},
   "outputs": [
    {
     "name": "stdout",
     "output_type": "stream",
     "text": [
      "Enter a number: 5\n",
      "Factorial of 5 is: 120\n"
     ]
    }
   ],
   "source": [
    "n = int (input (\"Enter a number: \"))\n",
    "factorial = 1\n",
    "if n >= 1:\n",
    "    for i in range (1, n+1):\n",
    "        factorial=factorial *i\n",
    "print(\"Factorial of\", n, 'is:', factorial)"
   ]
  },
  {
   "cell_type": "code",
   "execution_count": 13,
   "id": "238f0de0",
   "metadata": {},
   "outputs": [
    {
     "name": "stdout",
     "output_type": "stream",
     "text": [
      "Masukkan sebuah angka: 5\n",
      "Angka tidak lebih besar dari 10\n"
     ]
    }
   ],
   "source": [
    "angka = int(input('Masukkan sebuah angka: '))\n",
    "if angka > 10:\n",
    "    print ('Angka lebih besar dari 10')\n",
    "else:\n",
    "    print ('Angka tidak lebih besar dari 10')"
   ]
  },
  {
   "cell_type": "code",
   "execution_count": 3,
   "id": "269d7d82",
   "metadata": {},
   "outputs": [
    {
     "name": "stdout",
     "output_type": "stream",
     "text": [
      "Masukkan angka: 7\n",
      "Masukkan angka: 8\n",
      "Masukkan angka: 1\n",
      "Masukkan angka: 2\n",
      "Masukkan angka: 0\n"
     ]
    }
   ],
   "source": [
    "while True:\n",
    "    ang = int(input('Masukkan angka: '))\n",
    "    if ang == 0 : break\n",
    "    value = int(ang)"
   ]
  },
  {
   "cell_type": "code",
   "execution_count": 20,
   "id": "546551ad",
   "metadata": {},
   "outputs": [
    {
     "name": "stdout",
     "output_type": "stream",
     "text": [
      "Masukkan angka: 5\n",
      "*\n",
      "**\n",
      "***\n",
      "****\n",
      "*****\n"
     ]
    }
   ],
   "source": [
    "ang = int(input('Masukkan angka: '))\n",
    "for i in range (1, ang+1):\n",
    "    for j in range(0,i):\n",
    "        print('*', end='')\n",
    "    print()"
   ]
  },
  {
   "cell_type": "code",
   "execution_count": 45,
   "id": "27b49b9f",
   "metadata": {},
   "outputs": [
    {
     "name": "stdout",
     "output_type": "stream",
     "text": [
      "Masukkan angka bulat = 3.5\n",
      "Bukan angka bulat. Coba lagi...\n"
     ]
    }
   ],
   "source": [
    "try:\n",
    "    num = int(input('Masukkan angka bulat = '))\n",
    "except:\n",
    "    print('Bukan angka bulat. Coba lagi...')"
   ]
  },
  {
   "cell_type": "code",
   "execution_count": 21,
   "id": "c23447d7",
   "metadata": {},
   "outputs": [
    {
     "name": "stdout",
     "output_type": "stream",
     "text": [
      "Masukkan bilang bulat pertama = 5\n",
      "Masukkan bilangan bulat kedua = 6\n",
      "5 Lebih besar dari 6 : False\n",
      "5 Lebih kecil dari 6 : True\n",
      "5 Lebih besar sama dengan 6 : False\n",
      "5 Lebih kecil sama dengan 6 : True\n",
      "5 Sama dengan 6 : False\n",
      "5 Tidak sama dengan 6 : True\n"
     ]
    }
   ],
   "source": [
    "num1 = int(input('Masukkan bilang bulat pertama = ' ))\n",
    "num2 = int(input('Masukkan bilangan bulat kedua = ' ))\n",
    "\n",
    "if num1 > num2:\n",
    "    print(num1, 'Lebih besar dari', num2,':',num1>num2)\n",
    "else:\n",
    "    print(num1, 'Lebih besar dari', num2,':',num1>num2)\n",
    "    \n",
    "if num1 < num2:\n",
    "    print(num1, 'Lebih kecil dari', num2,':',num1<num2)\n",
    "else:\n",
    "    print(num1, 'Lebih kecil dari', num2,':',num1<num2)\n",
    "    \n",
    "if num1 >= num2:\n",
    "    print(num1, 'Lebih besar sama dengan', num2,':',num1>=num2)\n",
    "else:\n",
    "    print(num1, 'Lebih besar sama dengan', num2,':',num1>=num2)\n",
    "    \n",
    "if num1 <= num2:\n",
    "    print(num1, 'Lebih kecil sama dengan', num2,':',num1<=num2)\n",
    "else:\n",
    "    print(num1, 'Lebih kecil sama dengan', num2,':',num1<=num2)\n",
    "    \n",
    "if num1 == num2:\n",
    "    print(num1, 'Sama dengan', num2,':',num1==num2)\n",
    "else:\n",
    "    print(num1, 'Sama dengan', num2,':',num1==num2)\n",
    "\n",
    "if num1 != num2:\n",
    "    print(num1, 'Tidak sama dengan', num2,':',num1!=num2)\n",
    "else:\n",
    "    print(num1, 'Tidak sama dengan', num2,':',num1!=num2)"
   ]
  },
  {
   "cell_type": "code",
   "execution_count": null,
   "id": "75763ae3",
   "metadata": {},
   "outputs": [],
   "source": []
  }
 ],
 "metadata": {
  "kernelspec": {
   "display_name": "Python 3 (ipykernel)",
   "language": "python",
   "name": "python3"
  },
  "language_info": {
   "codemirror_mode": {
    "name": "ipython",
    "version": 3
   },
   "file_extension": ".py",
   "mimetype": "text/x-python",
   "name": "python",
   "nbconvert_exporter": "python",
   "pygments_lexer": "ipython3",
   "version": "3.10.9"
  }
 },
 "nbformat": 4,
 "nbformat_minor": 5
}
